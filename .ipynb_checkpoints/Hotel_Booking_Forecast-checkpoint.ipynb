{
 "cells": [
  {
   "cell_type": "code",
   "execution_count": 13,
   "id": "e78eebf2",
   "metadata": {},
   "outputs": [
    {
     "name": "stdout",
     "output_type": "stream",
     "text": [
      "<class 'pandas.core.frame.DataFrame'>\n",
      "RangeIndex: 119390 entries, 0 to 119389\n",
      "Data columns (total 32 columns):\n",
      " #   Column                          Non-Null Count   Dtype  \n",
      "---  ------                          --------------   -----  \n",
      " 0   hotel                           119390 non-null  object \n",
      " 1   is_canceled                     119390 non-null  int64  \n",
      " 2   lead_time                       119390 non-null  int64  \n",
      " 3   arrival_date_year               119390 non-null  int64  \n",
      " 4   arrival_date_month              119390 non-null  object \n",
      " 5   arrival_date_week_number        119390 non-null  int64  \n",
      " 6   arrival_date_day_of_month       119390 non-null  int64  \n",
      " 7   stays_in_weekend_nights         119390 non-null  int64  \n",
      " 8   stays_in_week_nights            119390 non-null  int64  \n",
      " 9   adults                          119390 non-null  int64  \n",
      " 10  children                        119386 non-null  float64\n",
      " 11  babies                          119390 non-null  int64  \n",
      " 12  meal                            119390 non-null  object \n",
      " 13  country                         118902 non-null  object \n",
      " 14  market_segment                  119390 non-null  object \n",
      " 15  distribution_channel            119390 non-null  object \n",
      " 16  is_repeated_guest               119390 non-null  int64  \n",
      " 17  previous_cancellations          119390 non-null  int64  \n",
      " 18  previous_bookings_not_canceled  119390 non-null  int64  \n",
      " 19  reserved_room_type              119390 non-null  object \n",
      " 20  assigned_room_type              119390 non-null  object \n",
      " 21  booking_changes                 119390 non-null  int64  \n",
      " 22  deposit_type                    119390 non-null  object \n",
      " 23  agent                           103050 non-null  float64\n",
      " 24  company                         6797 non-null    float64\n",
      " 25  days_in_waiting_list            119390 non-null  int64  \n",
      " 26  customer_type                   119390 non-null  object \n",
      " 27  adr                             119390 non-null  float64\n",
      " 28  required_car_parking_spaces     119390 non-null  int64  \n",
      " 29  total_of_special_requests       119390 non-null  int64  \n",
      " 30  reservation_status              119390 non-null  object \n",
      " 31  reservation_status_date         119390 non-null  object \n",
      "dtypes: float64(4), int64(16), object(12)\n",
      "memory usage: 29.1+ MB\n"
     ]
    }
   ],
   "source": [
    "import numpy as np\n",
    "import pandas as pd\n",
    "\n",
    "df = pd.read_csv('hotel_bookings.csv')\n",
    "df.info()\n",
    "data = pd.DataFrame()"
   ]
  },
  {
   "cell_type": "markdown",
   "id": "38b88a03",
   "metadata": {},
   "source": [
    "### Converting values \n",
    "* lead_time -> intervals\n",
    "* customer_type - > integer"
   ]
  },
  {
   "cell_type": "markdown",
   "id": "f207b988",
   "metadata": {},
   "source": [
    "#### CustomerType"
   ]
  },
  {
   "cell_type": "code",
   "execution_count": 14,
   "id": "bba76d81",
   "metadata": {},
   "outputs": [],
   "source": [
    "customer_type = df['customer_type']\n",
    "interval = []\n",
    "for cus in customer_type:\n",
    "    if cus == 'Transient':\n",
    "        interval.append(0)\n",
    "    elif cus == 'Transient-Party':\n",
    "        interval.append(1)\n",
    "    elif cus == 'Contract':\n",
    "        interval.append(2)\n",
    "    elif cus == 'Group':\n",
    "        interval.append(3)\n",
    "df['t_CustomerType'] = interval"
   ]
  },
  {
   "cell_type": "markdown",
   "id": "827fe86a",
   "metadata": {},
   "source": [
    "#### LeadTime"
   ]
  },
  {
   "cell_type": "code",
   "execution_count": 15,
   "id": "10f6c287",
   "metadata": {},
   "outputs": [
    {
     "data": {
      "text/plain": [
       "<AxesSubplot:>"
      ]
     },
     "execution_count": 15,
     "metadata": {},
     "output_type": "execute_result"
    },
    {
     "data": {
      "image/png": "[encoded data removed]",
      "text/plain": [
       "<Figure size 432x288 with 1 Axes>"
      ]
     },
     "metadata": {
      "needs_background": "light"
     },
     "output_type": "display_data"
    }
   ],
   "source": [
    "df['lead_time'].hist()"
   ]
  },
  {
   "cell_type": "code",
   "execution_count": 16,
   "id": "492c3ff9",
   "metadata": {},
   "outputs": [],
   "source": [
    "lead_time = df['lead_time']\n",
    "converted = []\n",
    "for lt in lead_time:\n",
    "    if lt >= 0 and lt <= 100:\n",
    "        converted.append(0)\n",
    "    if lt > 100 and lt < 200:\n",
    "        converted.append(0)\n",
    "    if lt >= 200:\n",
    "        converted.append(0)\n",
    "    \n",
    "df['t_LeadTime'] = converted"
   ]
  },
  {
   "cell_type": "markdown",
   "id": "443f4e4d",
   "metadata": {},
   "source": [
    "#### Months into integer & seasons"
   ]
  },
  {
   "cell_type": "code",
   "execution_count": 17,
   "id": "18bae24c",
   "metadata": {},
   "outputs": [],
   "source": [
    "month = df['arrival_date_month']\n",
    "# months to numbers map\n",
    "dct = {'January': 1, 'February': 2, 'March': 3, 'April': 4, 'May': 5, 'June': 6, 'July': 7, 'August': 8, 'September': 9, 'October': 10, 'November': 11, 'December': 12}\n",
    "t_month = list(map(dct.get, month))\n",
    "\n",
    "# add to dataframe\n",
    "df['t_ArrivalMonth'] = t_month\n",
    "\n",
    "# months to seasons map\n",
    "seasons = [1, 1, 2, 2, 2, 3, 3, 3, 4, 4, 4, 1]\n",
    "season_dct = dict(zip(range(1,13), seasons))\n",
    "t_seasons = list(map(season_dct.get, t_month))\n",
    "df['t_ArrivalSeasons'] = t_seasons"
   ]
  },
  {
   "cell_type": "markdown",
   "id": "4153e82f",
   "metadata": {},
   "source": [
    "#### Dist Channel to Integer"
   ]
  },
  {
   "cell_type": "code",
   "execution_count": 18,
   "id": "881e5fb3",
   "metadata": {},
   "outputs": [
    {
     "data": {
      "text/plain": [
       "<AxesSubplot:>"
      ]
     },
     "execution_count": 18,
     "metadata": {},
     "output_type": "execute_result"
    },
    {
     "data": {
      "image/png": "[encoded data removed]",
      "text/plain": [
       "<Figure size 432x288 with 1 Axes>"
      ]
     },
     "metadata": {
      "needs_background": "light"
     },
     "output_type": "display_data"
    }
   ],
   "source": [
    "df['distribution_channel'].hist()"
   ]
  },
  {
   "cell_type": "code",
   "execution_count": 19,
   "id": "709c98b4",
   "metadata": {},
   "outputs": [],
   "source": [
    "channel = df['distribution_channel']\n",
    "# undefined included into TA/TO for size considerations\n",
    "dct = {'TA/TO':1 ,'Undefined': 1, 'Corporate': 2, 'Direct': 3, 'GDS': 4, 'Undefined': 5}\n",
    "t_channel= list(map(dct.get, channel))\n",
    "df['t_Dist'] = t_channel"
   ]
  },
  {
   "cell_type": "markdown",
   "id": "6798d1e1",
   "metadata": {},
   "source": [
    "#### Previous Cancellations"
   ]
  },
  {
   "cell_type": "code",
   "execution_count": 20,
   "id": "e09ef355",
   "metadata": {},
   "outputs": [],
   "source": [
    "prev_cancel = df['previous_cancellations']\n",
    "converted = []\n",
    "for i in prev_cancel:\n",
    "    if i == 0:\n",
    "        converted.append(0)\n",
    "    else:\n",
    "        converted.append(1)\n",
    "df['t_PrevCancellations'] = converted"
   ]
  },
  {
   "cell_type": "markdown",
   "id": "0c4fe5b2",
   "metadata": {},
   "source": [
    "#### Resort / City Hotels"
   ]
  },
  {
   "cell_type": "code",
   "execution_count": 21,
   "id": "4be1838e",
   "metadata": {},
   "outputs": [],
   "source": [
    "# Hotel into binary 0/1\n",
    "hotel = df['hotel']\n",
    "# undefined included into TA/TO for size considerations\n",
    "dct = {'Resort Hotel':0, 'City Hotel': 1}\n",
    "t_hotel= list(map(dct.get, hotel))\n",
    "df['t_Hotel'] = t_hotel"
   ]
  },
  {
   "cell_type": "code",
   "execution_count": 22,
   "id": "7ff2f04f",
   "metadata": {},
   "outputs": [
    {
     "data": {
      "text/plain": [
       "<AxesSubplot:xlabel='t_Hotel', ylabel='Count'>"
      ]
     },
     "execution_count": 22,
     "metadata": {},
     "output_type": "execute_result"
    },
    {
     "data": {
      "image/png": "[encoded data removed]",
      "text/plain": [
       "<Figure size 432x288 with 1 Axes>"
      ]
     },
     "metadata": {
      "needs_background": "light"
     },
     "output_type": "display_data"
    }
   ],
   "source": [
    "import seaborn as sns\n",
    "data = df['t_Hotel']\n",
    "sns.histplot(data)"
   ]
  },
  {
   "cell_type": "markdown",
   "id": "d9882994",
   "metadata": {},
   "source": [
    "## Model "
   ]
  },
  {
   "cell_type": "code",
   "execution_count": 23,
   "id": "2df4ac58",
   "metadata": {},
   "outputs": [],
   "source": [
    "# General dependencies + Scikit learn RF classifier\n",
    "from numpy import mean\n",
    "from numpy import std\n",
    "from sklearn.datasets import make_classification\n",
    "from sklearn.model_selection import cross_val_score\n",
    "from sklearn.model_selection import RepeatedStratifiedKFold\n",
    "from sklearn.model_selection import RepeatedStratifiedKFold\n",
    "from sklearn.ensemble import RandomForestClassifier"
   ]
  },
  {
   "cell_type": "code",
   "execution_count": 24,
   "id": "7e322274",
   "metadata": {},
   "outputs": [],
   "source": [
    "# Splitting data to train an test datasets\n",
    "part = np.random.rand(len(df)) < 0.8\n",
    "train = df[part]\n",
    "test = df[~part]"
   ]
  },
  {
   "cell_type": "code",
   "execution_count": 25,
   "id": "54346400",
   "metadata": {},
   "outputs": [
    {
     "name": "stdout",
     "output_type": "stream",
     "text": [
      "<class 'pandas.core.frame.DataFrame'>\n",
      "RangeIndex: 119390 entries, 0 to 119389\n",
      "Data columns (total 39 columns):\n",
      " #   Column                          Non-Null Count   Dtype  \n",
      "---  ------                          --------------   -----  \n",
      " 0   hotel                           119390 non-null  object \n",
      " 1   is_canceled                     119390 non-null  int64  \n",
      " 2   lead_time                       119390 non-null  int64  \n",
      " 3   arrival_date_year               119390 non-null  int64  \n",
      " 4   arrival_date_month              119390 non-null  object \n",
      " 5   arrival_date_week_number        119390 non-null  int64  \n",
      " 6   arrival_date_day_of_month       119390 non-null  int64  \n",
      " 7   stays_in_weekend_nights         119390 non-null  int64  \n",
      " 8   stays_in_week_nights            119390 non-null  int64  \n",
      " 9   adults                          119390 non-null  int64  \n",
      " 10  children                        119386 non-null  float64\n",
      " 11  babies                          119390 non-null  int64  \n",
      " 12  meal                            119390 non-null  object \n",
      " 13  country                         118902 non-null  object \n",
      " 14  market_segment                  119390 non-null  object \n",
      " 15  distribution_channel            119390 non-null  object \n",
      " 16  is_repeated_guest               119390 non-null  int64  \n",
      " 17  previous_cancellations          119390 non-null  int64  \n",
      " 18  previous_bookings_not_canceled  119390 non-null  int64  \n",
      " 19  reserved_room_type              119390 non-null  object \n",
      " 20  assigned_room_type              119390 non-null  object \n",
      " 21  booking_changes                 119390 non-null  int64  \n",
      " 22  deposit_type                    119390 non-null  object \n",
      " 23  agent                           103050 non-null  float64\n",
      " 24  company                         6797 non-null    float64\n",
      " 25  days_in_waiting_list            119390 non-null  int64  \n",
      " 26  customer_type                   119390 non-null  object \n",
      " 27  adr                             119390 non-null  float64\n",
      " 28  required_car_parking_spaces     119390 non-null  int64  \n",
      " 29  total_of_special_requests       119390 non-null  int64  \n",
      " 30  reservation_status              119390 non-null  object \n",
      " 31  reservation_status_date         119390 non-null  object \n",
      " 32  t_CustomerType                  119390 non-null  int64  \n",
      " 33  t_LeadTime                      119390 non-null  int64  \n",
      " 34  t_ArrivalMonth                  119390 non-null  int64  \n",
      " 35  t_ArrivalSeasons                119390 non-null  int64  \n",
      " 36  t_Dist                          119390 non-null  int64  \n",
      " 37  t_PrevCancellations             119390 non-null  int64  \n",
      " 38  t_Hotel                         119390 non-null  int64  \n",
      "dtypes: float64(4), int64(23), object(12)\n",
      "memory usage: 35.5+ MB\n"
     ]
    }
   ],
   "source": [
    "df.info()"
   ]
  },
  {
   "cell_type": "code",
   "execution_count": 26,
   "id": "873fb66d",
   "metadata": {},
   "outputs": [],
   "source": [
    "# Prep train data\n",
    "# preparing training data\n",
    "cols = ['t_LeadTime', 't_CustomerType','t_ArrivalMonth','t_Dist','t_PrevCancellations', 't_Hotel']\n",
    "x_train = train[cols]\n",
    "y = train['is_canceled']\n",
    "x_test = test[cols]"
   ]
  },
  {
   "cell_type": "code",
   "execution_count": 27,
   "id": "a956c4e4",
   "metadata": {},
   "outputs": [],
   "source": [
    "# Random Forest\n",
    "from sklearn.ensemble import RandomForestRegressor\n",
    "m = RandomForestRegressor(n_estimators=20, random_state=0)"
   ]
  },
  {
   "cell_type": "code",
   "execution_count": 28,
   "id": "1d4dc5d1",
   "metadata": {},
   "outputs": [],
   "source": [
    "# Naive Bayes\n",
    "from sklearn.naive_bayes import GaussianNB  \n",
    "m = GaussianNB(priors=None, var_smoothing=1e-09)"
   ]
  },
  {
   "cell_type": "code",
   "execution_count": 30,
   "id": "185f65e0",
   "metadata": {},
   "outputs": [],
   "source": [
    "# Logistic Regression\n",
    "from sklearn.linear_model import LogisticRegression  \n",
    "m = LogisticRegression(penalty='l2')"
   ]
  },
  {
   "cell_type": "code",
   "execution_count": 31,
   "id": "ad8699cb",
   "metadata": {},
   "outputs": [
    {
     "name": "stdout",
     "output_type": "stream",
     "text": [
      "Accuracy: 0.54 (+/- 0.31)\n"
     ]
    }
   ],
   "source": [
    " # Evalutating the model\n",
    "scores = cross_val_score(m, x_train, y, cv = 10)\n",
    "print(\"Accuracy: %0.2f (+/- %0.2f)\" % (scores.mean(), scores.std() * 2))"
   ]
  },
  {
   "cell_type": "code",
   "execution_count": null,
   "id": "442d1343",
   "metadata": {},
   "outputs": [],
   "source": []
  }
 ],
 "metadata": {
  "kernelspec": {
   "display_name": "Python 3 (ipykernel)",
   "language": "python",
   "name": "python3"
  },
  "language_info": {
   "codemirror_mode": {
    "name": "ipython",
    "version": 3
   },
   "file_extension": ".py",
   "mimetype": "text/x-python",
   "name": "python",
   "nbconvert_exporter": "python",
   "pygments_lexer": "ipython3",
   "version": "3.9.6"
  }
 },
 "nbformat": 4,
 "nbformat_minor": 5
}
