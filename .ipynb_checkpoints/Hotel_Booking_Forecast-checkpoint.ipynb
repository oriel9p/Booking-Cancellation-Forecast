{
 "cells": [
  {
   "cell_type": "markdown",
   "id": "28ac6e03",
   "metadata": {},
   "source": [
    "# Hotel Cancellation Forecast - Project\n",
    "The accomodation industry is a 4.1 Trillion Dollar industry in 2021.\n",
    "In today's fast-paced world, consumers are becoming more flexible with their stays, \"Free Cancellation\" offers are helping large booking websites like Booking.com and Hotels.com stay competitive by allowing consumers said flexibility.\n",
    "However, these offers bring an old-new problem to the table - booking cancellations.\n",
    "In this project we aim to allow accurate forecasting of booking cancellations in order to aid hotels and booking websites correctly anticipate hotel cancellations and act accordingly to prevent loss and maximize capacity.\n",
    "##### By Oriel Perets & Dafna Meron\n"
   ]
  },
  {
   "cell_type": "markdown",
   "id": "43f9110e",
   "metadata": {},
   "source": [
    "-------"
   ]
  },
  {
   "cell_type": "markdown",
   "id": "369a26e0",
   "metadata": {},
   "source": [
    "#### Project setup\n",
    "1. Importing dependecies\n",
    "    * Numpy\n",
    "    * Pandas\n",
    "2. Importing data\n",
    "    * csv --> dataFrame\n"
   ]
  },
  {
   "cell_type": "code",
   "execution_count": 5,
   "id": "e78eebf2",
   "metadata": {},
   "outputs": [],
   "source": [
    "import numpy as np\n",
    "import pandas as pd\n",
    "\n",
    "df = pd.read_csv('hotel_bookings.csv')"
   ]
  },
  {
   "cell_type": "markdown",
   "id": "c946855c",
   "metadata": {},
   "source": [
    "#### Visualizing data"
   ]
  },
  {
   "cell_type": "markdown",
   "id": "227dcf76",
   "metadata": {},
   "source": [
    "----------"
   ]
  },
  {
   "cell_type": "markdown",
   "id": "38b88a03",
   "metadata": {},
   "source": [
    "### Converting values \n",
    "* lead_time -> intervals\n",
    "* customer_type - > integer"
   ]
  },
  {
   "cell_type": "markdown",
   "id": "f207b988",
   "metadata": {},
   "source": [
    "#### CustomerType"
   ]
  },
  {
   "cell_type": "code",
   "execution_count": null,
   "id": "bba76d81",
   "metadata": {},
   "outputs": [],
   "source": [
    "customer_type = df['customer_type']\n",
    "interval = []\n",
    "for cus in customer_type:\n",
    "    if cus == 'Transient':\n",
    "        interval.append(0)\n",
    "    elif cus == 'Transient-Party':\n",
    "        interval.append(1)\n",
    "    elif cus == 'Contract':\n",
    "        interval.append(2)\n",
    "    elif cus == 'Group':\n",
    "        interval.append(3)\n",
    "df['t_CustomerType'] = interval"
   ]
  },
  {
   "cell_type": "markdown",
   "id": "827fe86a",
   "metadata": {},
   "source": [
    "#### LeadTime"
   ]
  },
  {
   "cell_type": "code",
   "execution_count": null,
   "id": "10f6c287",
   "metadata": {},
   "outputs": [],
   "source": [
    "df['lead_time'].hist()"
   ]
  },
  {
   "cell_type": "code",
   "execution_count": null,
   "id": "492c3ff9",
   "metadata": {},
   "outputs": [],
   "source": [
    "lead_time = df['lead_time']\n",
    "converted = []\n",
    "for lt in lead_time:\n",
    "    if lt >= 0 and lt <= 100:\n",
    "        converted.append(0)\n",
    "    if lt > 100 and lt < 200:\n",
    "        converted.append(0)\n",
    "    if lt >= 200:\n",
    "        converted.append(0)\n",
    "    \n",
    "df['t_LeadTime'] = converted"
   ]
  },
  {
   "cell_type": "markdown",
   "id": "443f4e4d",
   "metadata": {},
   "source": [
    "#### Months into integer & seasons"
   ]
  },
  {
   "cell_type": "code",
   "execution_count": null,
   "id": "18bae24c",
   "metadata": {},
   "outputs": [],
   "source": [
    "month = df['arrival_date_month']\n",
    "# months to numbers map\n",
    "dct = {'January': 1, 'February': 2, 'March': 3, 'April': 4, 'May': 5, 'June': 6, 'July': 7, 'August': 8, 'September': 9, 'October': 10, 'November': 11, 'December': 12}\n",
    "t_month = list(map(dct.get, month))\n",
    "\n",
    "# add to dataframe\n",
    "df['t_ArrivalMonth'] = t_month\n",
    "\n",
    "# months to seasons map\n",
    "seasons = [1, 1, 2, 2, 2, 3, 3, 3, 4, 4, 4, 1]\n",
    "season_dct = dict(zip(range(1,13), seasons))\n",
    "t_seasons = list(map(season_dct.get, t_month))\n",
    "df['t_ArrivalSeasons'] = t_seasons"
   ]
  },
  {
   "cell_type": "markdown",
   "id": "4153e82f",
   "metadata": {},
   "source": [
    "#### Dist Channel to Integer"
   ]
  },
  {
   "cell_type": "code",
   "execution_count": null,
   "id": "881e5fb3",
   "metadata": {},
   "outputs": [],
   "source": [
    "df['distribution_channel'].hist()"
   ]
  },
  {
   "cell_type": "code",
   "execution_count": null,
   "id": "709c98b4",
   "metadata": {},
   "outputs": [],
   "source": [
    "channel = df['distribution_channel']\n",
    "# undefined included into TA/TO for size considerations\n",
    "dct = {'TA/TO':1 ,'Undefined': 1, 'Corporate': 2, 'Direct': 3, 'GDS': 4, 'Undefined': 5}\n",
    "t_channel= list(map(dct.get, channel))\n",
    "df['t_Dist'] = t_channel"
   ]
  },
  {
   "cell_type": "markdown",
   "id": "6798d1e1",
   "metadata": {},
   "source": [
    "#### Previous Cancellations"
   ]
  },
  {
   "cell_type": "code",
   "execution_count": null,
   "id": "e09ef355",
   "metadata": {},
   "outputs": [],
   "source": [
    "prev_cancel = df['previous_cancellations']\n",
    "converted = []\n",
    "for i in prev_cancel:\n",
    "    if i == 0:\n",
    "        converted.append(0)\n",
    "    else:\n",
    "        converted.append(1)\n",
    "df['t_PrevCancellations'] = converted"
   ]
  },
  {
   "cell_type": "markdown",
   "id": "0c4fe5b2",
   "metadata": {},
   "source": [
    "#### Resort / City Hotels"
   ]
  },
  {
   "cell_type": "code",
   "execution_count": null,
   "id": "d1ef7e56",
   "metadata": {},
   "outputs": [],
   "source": [
    "# Hotel into binary 0/1\n",
    "hotel = df['hotel']\n",
    "# undefined included into TA/TO for size considerations\n",
    "dct = {'Resort Hotel':0, 'City Hotel': 1}\n",
    "t_hotel= list(map(dct.get, hotel))\n",
    "df['t_Hotel'] = t_hotel"
   ]
  },
  {
   "cell_type": "code",
   "execution_count": null,
   "id": "7ff2f04f",
   "metadata": {},
   "outputs": [],
   "source": [
    "import seaborn as sns\n",
    "data = df['t_Hotel']\n",
    "sns.histplot(data)"
   ]
  },
  {
   "cell_type": "markdown",
   "id": "d09f01c1",
   "metadata": {},
   "source": [
    "#### Deposit type"
   ]
  },
  {
   "cell_type": "code",
   "execution_count": null,
   "id": "aa85ac9f",
   "metadata": {},
   "outputs": [],
   "source": [
    "# Histrogram of the data\n",
    "df['deposit_type'].hist()"
   ]
  },
  {
   "cell_type": "code",
   "execution_count": null,
   "id": "e9afeba7",
   "metadata": {},
   "outputs": [],
   "source": [
    "# Converting the data to integers\n",
    "# Hotel into binary 0/1\n",
    "deposit = df['deposit_type']\n",
    "# undefined included into TA/TO for size considerations\n",
    "dct = {'No Deposit':0, 'Refundable':1, 'Non Refund': 2}\n",
    "t_deposit = list(map(dct.get, deposit))\n",
    "df['t_DepositType'] = t_deposit"
   ]
  },
  {
   "cell_type": "markdown",
   "id": "f2dc8d72",
   "metadata": {},
   "source": [
    "#### Repeated Guests\n",
    "##### Will be incorporated as is, 0/1 values - unbalanced."
   ]
  },
  {
   "cell_type": "markdown",
   "id": "e246f028",
   "metadata": {},
   "source": [
    "#### Family/Party size in total"
   ]
  },
  {
   "cell_type": "code",
   "execution_count": null,
   "id": "81348dbc",
   "metadata": {},
   "outputs": [],
   "source": [
    "# Missing values in Children\n",
    "children = df['children']\n",
    "new_children = []\n",
    "for i in children:\n",
    "    if i != i:\n",
    "        new_children.append(0)\n",
    "    else:\n",
    "        new_children.append(i)\n",
    "\n",
    "# sum of party (adults,children,babies)\n",
    "party = df['adults'] + new_children + df['babies']\n",
    "t_party = []\n",
    "for i in party:\n",
    "   t_party.append(int(i))\n",
    "\n",
    "df['t_Party'] = t_party"
   ]
  },
  {
   "cell_type": "markdown",
   "id": "d9882994",
   "metadata": {},
   "source": [
    "## Model "
   ]
  },
  {
   "cell_type": "code",
   "execution_count": null,
   "id": "2df4ac58",
   "metadata": {},
   "outputs": [],
   "source": [
    "# General dependencies + Scikit learn RF classifier\n",
    "from numpy import mean\n",
    "from numpy import std\n",
    "from sklearn.datasets import make_classification\n",
    "from sklearn.model_selection import cross_val_score\n",
    "from sklearn.model_selection import RepeatedStratifiedKFold\n",
    "from sklearn.model_selection import RepeatedStratifiedKFold\n",
    "from sklearn.ensemble import RandomForestClassifier"
   ]
  },
  {
   "cell_type": "code",
   "execution_count": null,
   "id": "7e322274",
   "metadata": {},
   "outputs": [],
   "source": [
    "# Splitting data to train an test datasets\n",
    "part = np.random.rand(len(df)) < 0.8\n",
    "train = df[part]\n",
    "test = df[~part]"
   ]
  },
  {
   "cell_type": "code",
   "execution_count": null,
   "id": "54346400",
   "metadata": {},
   "outputs": [],
   "source": [
    "df.info()"
   ]
  },
  {
   "cell_type": "code",
   "execution_count": null,
   "id": "873fb66d",
   "metadata": {},
   "outputs": [],
   "source": [
    "# Prep train data\n",
    "# preparing training data\n",
    "cols = ['t_LeadTime', 't_CustomerType','t_ArrivalMonth','t_Dist','t_PrevCancellations', 't_Hotel', 't_ArrivalSeasons', 't_DepositType', 'is_repeated_guest', 't_Party']\n",
    "x_train = train[cols]\n",
    "y = train['is_canceled']\n",
    "x_test = test[cols]"
   ]
  },
  {
   "cell_type": "code",
   "execution_count": null,
   "id": "a956c4e4",
   "metadata": {},
   "outputs": [],
   "source": [
    "# Random Forest\n",
    "from sklearn.ensemble import RandomForestRegressor\n",
    "m = RandomForestRegressor(n_estimators = 200, random_state = 0)"
   ]
  },
  {
   "cell_type": "code",
   "execution_count": null,
   "id": "1d4dc5d1",
   "metadata": {},
   "outputs": [],
   "source": [
    "# Naive Bayes\n",
    "from sklearn.naive_bayes import GaussianNB\n",
    "m = GaussianNB(priors=None, var_smoothing=1e-09)"
   ]
  },
  {
   "cell_type": "code",
   "execution_count": null,
   "id": "d78af78a",
   "metadata": {},
   "outputs": [],
   "source": [
    "# Logistic Regression\n",
    "from sklearn.linear_model import LogisticRegression  \n",
    "m = LogisticRegression(penalty='l2')"
   ]
  },
  {
   "cell_type": "code",
   "execution_count": null,
   "id": "ad8699cb",
   "metadata": {},
   "outputs": [],
   "source": [
    " # Evalutating the model\n",
    "scores = cross_val_score(m, x_train, y, cv = 10)\n",
    "print(\"Accuracy: %0.2f (+/- %0.2f)\" % (scores.mean(), scores.std() * 2))"
   ]
  },
  {
   "cell_type": "code",
   "execution_count": null,
   "id": "bf85ebde",
   "metadata": {},
   "outputs": [],
   "source": []
  }
 ],
 "metadata": {
  "kernelspec": {
   "display_name": "Python 3 (ipykernel)",
   "language": "python",
   "name": "python3"
  },
  "language_info": {
   "codemirror_mode": {
    "name": "ipython",
    "version": 3
   },
   "file_extension": ".py",
   "mimetype": "text/x-python",
   "name": "python",
   "nbconvert_exporter": "python",
   "pygments_lexer": "ipython3",
   "version": "3.9.6"
  }
 },
 "nbformat": 4,
 "nbformat_minor": 5
}
