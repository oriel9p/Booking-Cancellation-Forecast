{
 "cells": [
  {
   "cell_type": "markdown",
   "id": "28ac6e03",
   "metadata": {},
   "source": [
    "# Hotel Cancellation Forecast - Project\n",
    "The accomodation industry is a 4.1 Trillion Dollar industry in 2021.\n",
    "In today's fast-paced world, consumers are becoming more flexible with their stays, \"Free Cancellation\" offers are helping large booking websites like Booking.com and Hotels.com stay competitive by allowing consumers said flexibility.\n",
    "However, these offers bring an old-new problem to the table - booking cancellations.\n",
    "In this project we aim to allow accurate forecasting of booking cancellations in order to aid hotels and booking websites correctly anticipate hotel cancellations and act accordingly to prevent loss and maximize capacity.\n",
    "##### By Oriel Perets & Dafna Meron\n"
   ]
  },
  {
   "cell_type": "markdown",
   "id": "43f9110e",
   "metadata": {},
   "source": [
    "-------"
   ]
  },
  {
   "cell_type": "markdown",
   "id": "369a26e0",
   "metadata": {},
   "source": [
    "### Project setup\n",
    "#### Importing dependecies:\n",
    "1. Core dependecies\n",
    "    * Numpy\n",
    "    * Pandas\n",
    "2. Model dependecies (Scikit Learn)\n",
    "    * classification\n",
    "    * cross_val_score\n",
    "    * RandomForestClassifier\n",
    "    * Logistic Regressions\n",
    "    * GaussianNB\n",
    "    * Model_selection tools\n",
    "3. Importing data\n",
    "    * csv --> dataFrame\n"
   ]
  },
  {
   "cell_type": "code",
   "execution_count": null,
   "id": "e78eebf2",
   "metadata": {},
   "outputs": [],
   "source": [
    "import numpy as np\n",
    "import pandas as pd\n",
    "import seaborn as sns\n",
    "import matplotlib.pyplot as plt\n",
    "from numpy import mean\n",
    "from numpy import std\n",
    "from sklearn.datasets import make_classification\n",
    "from sklearn.model_selection import cross_val_score\n",
    "from sklearn.model_selection import RepeatedStratifiedKFold\n",
    "from sklearn.model_selection import RepeatedStratifiedKFold\n",
    "from sklearn.ensemble import RandomForestClassifier\n",
    "from sklearn.ensemble import RandomForestRegressor\n",
    "from sklearn.naive_bayes import GaussianNB\n",
    "from sklearn.linear_model import LogisticRegression\n",
    "from sklearn.model_selection import train_test_split\n",
    "import warnings\n",
    "warnings.filterwarnings('ignore')\n",
    "\n",
    "df = pd.read_csv('hotel_bookings.csv')"
   ]
  },
  {
   "cell_type": "markdown",
   "id": "f9dfb479",
   "metadata": {},
   "source": [
    "-------"
   ]
  },
  {
   "cell_type": "markdown",
   "id": "5e50d0f2",
   "metadata": {},
   "source": [
    "### Data exploration\n",
    "1. Variable Identification\n",
    "2. Univariate Analysis\n",
    "3. Bi-Variate Analysis\n",
    "4. Missing Values Treatment\n",
    "5. Outlier Treatment\n",
    "6. Variable Transofrmation\n",
    "7. Variable Creation"
   ]
  },
  {
   "cell_type": "code",
   "execution_count": null,
   "id": "14a0c4bd",
   "metadata": {},
   "outputs": [],
   "source": [
    "# Variable identification\n",
    "df.info()\n",
    "df.head(50)"
   ]
  },
  {
   "cell_type": "markdown",
   "id": "27a5deba",
   "metadata": {},
   "source": [
    "#### Variable identification\n",
    "* Target - 'is_canceled'\n",
    "* Predictos - all other variables\n",
    "* Continous:\n",
    "    * total_of_special_requests\n",
    "    * required_car_parking_spaces\n",
    "    * adr\n",
    "    * days_in_waiting_list\n",
    "    * adults\n",
    "    * stays_in_week_nights\n",
    "    * stays_in_weekend_nights\n",
    "    * lead_time\n",
    "* Categorical:\n",
    "    * hotel\n",
    "    * arrival_date_month\n",
    "    * arrival_date_day_of_month\n",
    "    * arrival_date_week_number\n",
    "    * deposit_type\n",
    "    * agent\n",
    "    * company\n",
    "    * customer_type    \n",
    "* Useless (removed):\n",
    "    * reservation_status\n",
    "    * reservation_status_date"
   ]
  },
  {
   "cell_type": "markdown",
   "id": "e7ade262",
   "metadata": {},
   "source": [
    "--------------"
   ]
  },
  {
   "cell_type": "code",
   "execution_count": null,
   "id": "3f7bb59e",
   "metadata": {},
   "outputs": [],
   "source": [
    "# Univariate analysis\n",
    "cont_vars = ['total_of_special_requests','required_car_parking_spaces','adr','days_in_waiting_list','adults','stays_in_week_nights','stays_in_weekend_nights','lead_time'\n",
    "]\n",
    "# Continous variables\n",
    "fig = plt.figure()\n",
    "fig.subplots_adjust(hspace=0.5, wspace=0.5)\n",
    "fig.set_size_inches(14,14)\n",
    "index = 0\n",
    "plot_idx = 1\n",
    "for var in cont_vars:\n",
    "    col = cont_vars[index]\n",
    "    ax = fig.add_subplot(3, 3, plot_idx)\n",
    "    sns.histplot(df[col], ax=ax)\n",
    "    index+=1\n",
    "    plot_idx+=1\n",
    "plt.show()\n",
    "\n"
   ]
  },
  {
   "cell_type": "markdown",
   "id": "ab25f50a",
   "metadata": {},
   "source": [
    "-------------------"
   ]
  },
  {
   "cell_type": "code",
   "execution_count": null,
   "id": "c044a068",
   "metadata": {},
   "outputs": [],
   "source": [
    "# Univariate analysis\n",
    "cat_vars = ['hotel','arrival_date_month','arrival_date_day_of_month','arrival_date_week_number','deposit_type','agent','company','customer_type'] \n",
    "# Categorical variables\n",
    "fig = plt.figure()\n",
    "fig.subplots_adjust(hspace=0.5, wspace=0.5)\n",
    "fig.set_size_inches(14,14)\n",
    "index = 0\n",
    "plot_idx = 1\n",
    "for var in cat_vars:\n",
    "    col = cat_vars[index]\n",
    "    ax = fig.add_subplot(3, 3, plot_idx)\n",
    "    ax.set_xticklabels(ax.get_xticklabels(), rotation=40, ha=\"right\")\n",
    "    sns.countplot(df[col], ax=ax)\n",
    "    index+=1\n",
    "    plot_idx+=1\n",
    "plt.show()\n"
   ]
  },
  {
   "cell_type": "markdown",
   "id": "b20f37ad",
   "metadata": {},
   "source": [
    "----------"
   ]
  },
  {
   "cell_type": "code",
   "execution_count": null,
   "id": "b3d7af80",
   "metadata": {},
   "outputs": [],
   "source": [
    "# Missing Values\n",
    "print(df.isna().sum())\n",
    "# Agent, Company - too many missing values\n",
    "df = df.drop('company',1)\n",
    "df = df.drop('agent',1)\n",
    "# Country - fill with 'unknown'\n",
    "df['country'].fillna('unknown', inplace=True)\n",
    "# babies - fill with median\n",
    "df['country'].fillna(df['babies'].median(), inplace=True)"
   ]
  },
  {
   "cell_type": "markdown",
   "id": "9880780e",
   "metadata": {},
   "source": [
    "----------"
   ]
  },
  {
   "cell_type": "code",
   "execution_count": null,
   "id": "38b23d53",
   "metadata": {},
   "outputs": [],
   "source": [
    "# Variable Transformation\n",
    "# lead_time -> convert to intervals\n",
    "df['lead_time'].mean()\n",
    "ax = sns.distplot(df['lead_time'])\n",
    "# Intervals -> 0-100 | 100-200 | 200+\n",
    "lead_time = df['lead_time']\n",
    "converted = []\n",
    "for lt in lead_time:\n",
    "    if lt >= 0 and lt <= 100:\n",
    "        converted.append(0)\n",
    "    if lt > 100 and lt < 200:\n",
    "        converted.append(0)\n",
    "    if lt >= 200:\n",
    "        converted.append(0)\n",
    "# Push to DF\n",
    "df['t_lead_time'] = converted"
   ]
  },
  {
   "cell_type": "code",
   "execution_count": null,
   "id": "af78077b",
   "metadata": {},
   "outputs": [],
   "source": [
    "# required_car_parking_space -> Binary\n",
    "df['required_car_parking_spaces'].hist()\n",
    "car_parking = df['required_car_parking_spaces']\n",
    "converted = []\n",
    "for cp in car_parking:\n",
    "    if cp == 0:\n",
    "        converted.append(0)\n",
    "    else:\n",
    "        converted.append(1)\n",
    "# Push to DF\n",
    "df['t_required_car_parking_spaces'] = converted"
   ]
  },
  {
   "cell_type": "code",
   "execution_count": null,
   "id": "6fecb5b5",
   "metadata": {},
   "outputs": [],
   "source": [
    "# arrival_month -> convert to Integer\n",
    "month = df['arrival_date_month']\n",
    "# Map months to integers\n",
    "dct = {'January': 1, 'February': 2, 'March': 3, 'April': 4, 'May': 5, 'June': 6, 'July': 7, 'August': 8, 'September': 9, 'October': 10, 'November': 11, 'December': 12}\n",
    "converted = list(map(dct.get, month))\n",
    "# Push to DF\n",
    "df['t_arrival_month'] = converted"
   ]
  },
  {
   "cell_type": "code",
   "execution_count": null,
   "id": "cabf8538",
   "metadata": {},
   "outputs": [],
   "source": [
    "# hotel -> Binary\n",
    "df['hotel'].hist()\n",
    "hotel = df['hotel']\n",
    "# Map hotel to binary\n",
    "dct = {'City Hotel':0, 'Resort Hotel':1}\n",
    "converted = list(map(dct.get, hotel))\n",
    "# Push to DF\n",
    "df['t_hotel'] = converted"
   ]
  },
  {
   "cell_type": "code",
   "execution_count": null,
   "id": "08406bf5",
   "metadata": {},
   "outputs": [],
   "source": [
    "# deposit_type --> Intergers\n",
    "df['deposit_type'].hist()\n",
    "deposit = df['deposit_type']\n",
    "# Map deposit to integers\n",
    "dct = {'No Deposit' : 0, 'Refundable': 1, 'Non Refundable': 2}\n",
    "converted = list(map(dct.get, deposit))\n",
    "# Push to DF\n",
    "df['t_deposit_type'] = converted"
   ]
  },
  {
   "cell_type": "code",
   "execution_count": null,
   "id": "9a69af94",
   "metadata": {},
   "outputs": [],
   "source": [
    "# customer_type -> Integers\n",
    "df['customer_type'].hist()\n",
    "customer_type = df['customer_type']\n",
    "dct = {'Transient' : 0, 'Contract': 1, 'Transient-Party': 2, 'Group': 3}\n",
    "converted = list(map(dct.get, customer_type))\n",
    "# Push to DF\n",
    "df['t_deposit_type'] = converted"
   ]
  },
  {
   "cell_type": "code",
   "execution_count": null,
   "id": "1e7fd82b",
   "metadata": {},
   "outputs": [],
   "source": [
    "# dist_channel -> Integers\n",
    "df['distribution_channel'].hist()\n",
    "channel = df['distribution_channel']\n",
    "# undefined included into TA/TO for size considerations\n",
    "dct = {'TA/TO':1 ,'Undefined': 1, 'Corporate': 2, 'Direct': 3, 'GDS': 4, 'Undefined': 5}\n",
    "converted = list(map(dct.get, channel))\n",
    "df['t_dist_channel'] = converted"
   ]
  },
  {
   "cell_type": "code",
   "execution_count": null,
   "id": "3b9b4439",
   "metadata": {},
   "outputs": [],
   "source": [
    "# adr -> binning and labeling as 0,1,2,3\n",
    "labels = [0,1,2,3]\n",
    "df['t_average_daily_rate'] = pd.qcut(df['adr'], q=4, labels=labels)"
   ]
  },
  {
   "cell_type": "code",
   "execution_count": null,
   "id": "c1154699",
   "metadata": {},
   "outputs": [],
   "source": [
    "# previous_cancellations -> Binary\n",
    "prev_can = df['previous_cancellations']\n",
    "df['previous_cancellations'].value_counts()\n",
    "converted = []\n",
    "for pc in prev_can:\n",
    "    if pc == 0:\n",
    "        converted.append(0)\n",
    "    elif pc == 1:\n",
    "        converted.append(1)\n",
    "    elif pc > 1 and pc < 5:\n",
    "        converted.append(2)\n",
    "    else: #serial canceler\n",
    "        converted.append(3)\n",
    "df['t_prev_cancellations'] = converted"
   ]
  },
  {
   "cell_type": "markdown",
   "id": "8bbbfc0e",
   "metadata": {},
   "source": [
    "-------------"
   ]
  },
  {
   "cell_type": "code",
   "execution_count": null,
   "id": "e4956844",
   "metadata": {},
   "outputs": [],
   "source": [
    "# Variable Creation\n",
    "# arrival_season -> the season in which the customer arrives @ the hotel\n",
    "month = df['arrival_date_month']\n",
    "# months to numbers map\n",
    "dct = {'January': 1, 'February': 2, 'March': 3, 'April': 4, 'May': 5, 'June': 6, 'July': 7, 'August': 8, 'September': 9, 'October': 10, 'November': 11, 'December': 12}\n",
    "t_month = list(map(dct.get, month))\n",
    "# Map months to seasons\n",
    "seasons = [1, 1, 2, 2, 2, 3, 3, 3, 4, 4, 4, 1]\n",
    "season_dct = dict(zip(range(1,13), seasons))\n",
    "t_seasons = list(map(season_dct.get, t_month))\n",
    "df['t_arrival_season'] = t_seasons\n",
    "df['t_arrival_season'].hist()"
   ]
  },
  {
   "cell_type": "code",
   "execution_count": null,
   "id": "a0703278",
   "metadata": {},
   "outputs": [],
   "source": [
    "# party_size ->  number of adults + children + babies\n",
    "party = df['adults'] + df['children'] + df['babies']\n",
    "party.fillna(0, inplace=True)\n",
    "df['t_party'] = party\n",
    "\n",
    "# df['t_party'] = df['t_party'].astype(int)\n",
    "sns.histplot(df['t_party'])"
   ]
  },
  {
   "cell_type": "markdown",
   "id": "e2d7bdd2",
   "metadata": {},
   "source": [
    "-----------"
   ]
  },
  {
   "cell_type": "markdown",
   "id": "d9882994",
   "metadata": {},
   "source": [
    "## Model "
   ]
  },
  {
   "cell_type": "code",
   "execution_count": null,
   "id": "a244c005",
   "metadata": {},
   "outputs": [],
   "source": [
    "df.info()"
   ]
  },
  {
   "cell_type": "code",
   "execution_count": null,
   "id": "c9edecb7",
   "metadata": {},
   "outputs": [],
   "source": [
    "# Splitting with sklearn train_test_split\n",
    "t_cols = ['t_average_daily_rate','t_prev_cancellations', 't_hotel', 't_lead_time','t_deposit_type','previous_bookings_not_canceled','t_party','t_required_car_parking_spaces']\n",
    "X_train, X_test, y_train, y_test = train_test_split(df[t_cols], df['is_canceled'], test_size=0.2, random_state=42)"
   ]
  },
  {
   "cell_type": "code",
   "execution_count": null,
   "id": "a956c4e4",
   "metadata": {},
   "outputs": [],
   "source": [
    "# Random Forest\n",
    "from sklearn.ensemble import RandomForestClassifier\n",
    "m = RandomForestClassifier(n_estimators = 200, random_state = 0)"
   ]
  },
  {
   "cell_type": "code",
   "execution_count": null,
   "id": "1d4dc5d1",
   "metadata": {},
   "outputs": [],
   "source": [
    "# # Naive Bayes\n",
    "# from sklearn.naive_bayes import GaussianNB\n",
    "# m = GaussianNB(priors=None, var_smoothing=1e-09)"
   ]
  },
  {
   "cell_type": "code",
   "execution_count": null,
   "id": "d78af78a",
   "metadata": {},
   "outputs": [],
   "source": [
    "# # Logistic Regression\n",
    "# from sklearn.linear_model import LogisticRegression  \n",
    "# m = LogisticRegression(penalty='l2')"
   ]
  },
  {
   "cell_type": "code",
   "execution_count": null,
   "id": "0d42e6a9",
   "metadata": {},
   "outputs": [],
   "source": [
    "m.fit(X_train, y_train)\n",
    "y_pred = m.predict(X_test)\n",
    "\n",
    "# from sklearn.metrics import confusion_matrix\n",
    "# cm = confusion_matrix(y_test, y_pred)"
   ]
  },
  {
   "cell_type": "code",
   "execution_count": null,
   "id": "501f4c42",
   "metadata": {},
   "outputs": [],
   "source": [
    "from sklearn.metrics import classification_report\n",
    "print(classification_report(y_test, y_pred))"
   ]
  },
  {
   "cell_type": "markdown",
   "id": "c22c3468",
   "metadata": {},
   "source": [
    "#### Model report:\n",
    "* f1 weighted - .63 - low 1's higher 0's\n",
    "* high recall for 0\n",
    "* low recall for 1\n",
    "* medium precision for 1's and 0's"
   ]
  },
  {
   "cell_type": "code",
   "execution_count": null,
   "id": "dde2f12f",
   "metadata": {},
   "outputs": [],
   "source": [
    "# preparing submission file\n",
    "submission = pd.DataFrame( { 'PassengerId': test['PassengerId'] , 'Survived': yy } )\n",
    "submission.to_csv('naive_bayes_model.csv' , index = False )"
   ]
  },
  {
   "cell_type": "code",
   "execution_count": null,
   "id": "ad8699cb",
   "metadata": {},
   "outputs": [],
   "source": [
    " # Evalutating the model\n",
    "from sklearn.model_selection import cross_val_score\n",
    "scores = cross_val_score(m, X_train, y_train , cv = 10)\n",
    "print(\"Accuracy: %0.2f (+/- %0.2f)\" % (scores.mean(), scores.std() * 2))"
   ]
  }
 ],
 "metadata": {
  "kernelspec": {
   "display_name": "Python 3 (ipykernel)",
   "language": "python",
   "name": "python3"
  },
  "language_info": {
   "codemirror_mode": {
    "name": "ipython",
    "version": 3
   },
   "file_extension": ".py",
   "mimetype": "text/x-python",
   "name": "python",
   "nbconvert_exporter": "python",
   "pygments_lexer": "ipython3",
   "version": "3.9.6"
  }
 },
 "nbformat": 4,
 "nbformat_minor": 5
}
